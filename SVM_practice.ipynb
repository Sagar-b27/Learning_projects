{
  "nbformat": 4,
  "nbformat_minor": 0,
  "metadata": {
    "colab": {
      "name": "SVM_practice.ipynb",
      "provenance": [],
      "authorship_tag": "ABX9TyNoLl+CAU4z8KmyqreFE5sS",
      "include_colab_link": true
    },
    "kernelspec": {
      "name": "python3",
      "display_name": "Python 3"
    },
    "language_info": {
      "name": "python"
    }
  },
  "cells": [
    {
      "cell_type": "markdown",
      "metadata": {
        "id": "view-in-github",
        "colab_type": "text"
      },
      "source": [
        "<a href=\"https://colab.research.google.com/github/Sagar-b27/Learning_projects/blob/main/SVM_practice.ipynb\" target=\"_parent\"><img src=\"https://colab.research.google.com/assets/colab-badge.svg\" alt=\"Open In Colab\"/></a>"
      ]
    },
    {
      "cell_type": "code",
      "execution_count": 8,
      "metadata": {
        "colab": {
          "base_uri": "https://localhost:8080/"
        },
        "id": "Nwjx1ez8HxKm",
        "outputId": "bac9298b-5c07-4564-836e-7c88c506d6b5"
      },
      "outputs": [
        {
          "output_type": "stream",
          "name": "stdout",
          "text": [
            "0.972027972027972\n",
            "0.9300699300699301\n"
          ]
        }
      ],
      "source": [
        "import sklearn\n",
        "from sklearn import datasets\n",
        "from sklearn import svm\n",
        "from sklearn import metrics\n",
        "from sklearn.neighbors import KNeighborsClassifier\n",
        "\n",
        "cancer = datasets.load_breast_cancer()\n",
        "\n",
        "#print(cancer.feature_names)\n",
        "#print(cancer.target_names)\n",
        "\n",
        "X = cancer.data\n",
        "Y = cancer.target\n",
        "\n",
        "X_train,X_test,Y_train,Y_test = sklearn.model_selection.train_test_split(X,Y,test_size=0.25)\n",
        "\n",
        "classes = ['malignant' 'benign']\n",
        "\n",
        "classifier_svm = svm.SVC(kernel=\"linear\", C = 2)\n",
        "classifier_svm.fit(X_train,Y_train)\n",
        "\n",
        "predict = classifier_svm.predict(X_test)\n",
        "\n",
        "accuracy = metrics.accuracy_score(Y_test,predict)\n",
        "\n",
        "print(accuracy)\n",
        "\n",
        "classifier_knn = KNeighborsClassifier(n_neighbors=13)\n",
        "classifier_knn.fit(X_train,Y_train)\n",
        "\n",
        "predict = classifier_knn.predict(X_test)\n",
        "\n",
        "accuracy_knn = metrics.accuracy_score(Y_test,predict)\n",
        "\n",
        "print(accuracy_knn)\n"
      ]
    }
  ]
}