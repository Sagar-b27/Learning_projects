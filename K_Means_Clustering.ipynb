{
  "nbformat": 4,
  "nbformat_minor": 0,
  "metadata": {
    "colab": {
      "name": "K Means Clustering.ipynb",
      "provenance": [],
      "authorship_tag": "ABX9TyPV1uKjmYzDX++Q5O2N05Mk",
      "include_colab_link": true
    },
    "kernelspec": {
      "name": "python3",
      "display_name": "Python 3"
    },
    "language_info": {
      "name": "python"
    }
  },
  "cells": [
    {
      "cell_type": "markdown",
      "metadata": {
        "id": "view-in-github",
        "colab_type": "text"
      },
      "source": [
        "<a href=\"https://colab.research.google.com/github/Sagar-b27/Learning_projects/blob/main/K_Means_Clustering.ipynb\" target=\"_parent\"><img src=\"https://colab.research.google.com/assets/colab-badge.svg\" alt=\"Open In Colab\"/></a>"
      ]
    },
    {
      "cell_type": "code",
      "execution_count": 7,
      "metadata": {
        "colab": {
          "base_uri": "https://localhost:8080/"
        },
        "id": "iCXEmWZhRW3-",
        "outputId": "1d4ccb07-fe2d-4e6c-ff8d-ed7910f0a669"
      },
      "outputs": [
        {
          "output_type": "stream",
          "name": "stdout",
          "text": [
            "1        \t69832\t0.644\t0.691\t0.667\t0.525\t0.663\t0.142\n"
          ]
        }
      ],
      "source": [
        "import numpy as np\n",
        "import sklearn\n",
        "from sklearn.preprocessing import scale\n",
        "from sklearn.datasets import load_digits\n",
        "from sklearn.cluster import KMeans\n",
        "from sklearn import metrics\n",
        "\n",
        "digits = load_digits()\n",
        "data = scale(digits.data)\n",
        "Y = digits.target\n",
        "\n",
        "K = len(np.unique(Y))\n",
        "samples, features = data.shape\n",
        "\n",
        "def bench_k_means(estimator, name, data):\n",
        "  estimator.fit(data)\n",
        "  print(\"%-9s\\t%i\\t%.3f\\t%.3f\\t%.3f\\t%.3f\\t%.3f\\t%.3f\"\n",
        "        % (name, estimator.inertia_,\n",
        "           metrics.homogeneity_score(Y, estimator.labels_),\n",
        "           metrics.completeness_score(Y, estimator.labels_),\n",
        "           metrics.v_measure_score(Y, estimator.labels_),\n",
        "           metrics.adjusted_rand_score(Y, estimator.labels_),\n",
        "           metrics.adjusted_mutual_info_score(Y, estimator.labels_),\n",
        "           metrics.silhouette_score(data, estimator.labels_,\n",
        "                                   metric = \"euclidean\")))\n",
        "\n",
        "classifier = KMeans(n_clusters = K, init = \"k-means++\", n_init =10)\n",
        "bench_k_means(classifier, \"1\", data)\n",
        "\n",
        "\n"
      ]
    }
  ]
}